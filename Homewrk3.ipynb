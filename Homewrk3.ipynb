{
 "cells": [
  {
   "cell_type": "raw",
   "id": "22370563",
   "metadata": {
    "ExecuteTime": {
     "end_time": "2021-11-16T04:24:46.942435Z",
     "start_time": "2021-11-16T04:24:40.091938Z"
    }
   },
   "source": [
    "%pip install -U notebook-as-pdf"
   ]
  },
  {
   "cell_type": "code",
   "execution_count": 157,
   "id": "01cc7ef4",
   "metadata": {
    "ExecuteTime": {
     "end_time": "2021-11-16T04:21:20.851142Z",
     "start_time": "2021-11-16T04:21:20.846951Z"
    }
   },
   "outputs": [],
   "source": [
    "import numpy as np \n",
    "import matplotlib.pyplot as plt \n",
    "import pandas as pd \n",
    "import seaborn as sns \n",
    "from sklearn.discriminant_analysis import LinearDiscriminantAnalysis \n",
    "from sklearn.metrics import accuracy_score \n",
    "from sklearn.metrics import confusion_matrix \n",
    "from sklearn.datasets import load_breast_cancer\n",
    "from sklearn.model_selection import train_test_split\n",
    "from sklearn.preprocessing import StandardScaler\n",
    "from sklearn.linear_model import LogisticRegression\n",
    "from sklearn.metrics import confusion_matrix\n",
    "from sklearn.preprocessing import StandardScaler"
   ]
  },
  {
   "cell_type": "code",
   "execution_count": 158,
   "id": "a3f50450",
   "metadata": {
    "ExecuteTime": {
     "end_time": "2021-11-16T04:21:20.873220Z",
     "start_time": "2021-11-16T04:21:20.856155Z"
    }
   },
   "outputs": [
    {
     "data": {
      "text/plain": [
       "(569, 30)"
      ]
     },
     "execution_count": 158,
     "metadata": {},
     "output_type": "execute_result"
    }
   ],
   "source": [
    "cancer = load_breast_cancer()\n",
    "cancer_data = cancer.data\n",
    "cancer_data.shape"
   ]
  },
  {
   "cell_type": "code",
   "execution_count": 159,
   "id": "4dc6c181",
   "metadata": {
    "ExecuteTime": {
     "end_time": "2021-11-16T04:21:20.878389Z",
     "start_time": "2021-11-16T04:21:20.875175Z"
    }
   },
   "outputs": [],
   "source": [
    "cancer_input = pd.DataFrame(cancer_data)\n",
    "ci=cancer_input.head()\n",
    "cancer_lbls = cancer.target\n",
    "cl=cancer_lbls"
   ]
  },
  {
   "cell_type": "code",
   "execution_count": 160,
   "id": "6cfa5009",
   "metadata": {
    "ExecuteTime": {
     "end_time": "2021-11-16T04:21:20.913255Z",
     "start_time": "2021-11-16T04:21:20.880668Z"
    }
   },
   "outputs": [
    {
     "data": {
      "text/html": [
       "<div>\n",
       "<style scoped>\n",
       "    .dataframe tbody tr th:only-of-type {\n",
       "        vertical-align: middle;\n",
       "    }\n",
       "\n",
       "    .dataframe tbody tr th {\n",
       "        vertical-align: top;\n",
       "    }\n",
       "\n",
       "    .dataframe thead th {\n",
       "        text-align: right;\n",
       "    }\n",
       "</style>\n",
       "<table border=\"1\" class=\"dataframe\">\n",
       "  <thead>\n",
       "    <tr style=\"text-align: right;\">\n",
       "      <th></th>\n",
       "      <th>0</th>\n",
       "      <th>1</th>\n",
       "      <th>2</th>\n",
       "      <th>3</th>\n",
       "      <th>4</th>\n",
       "      <th>5</th>\n",
       "      <th>6</th>\n",
       "      <th>7</th>\n",
       "      <th>8</th>\n",
       "      <th>9</th>\n",
       "      <th>...</th>\n",
       "      <th>20</th>\n",
       "      <th>21</th>\n",
       "      <th>22</th>\n",
       "      <th>23</th>\n",
       "      <th>24</th>\n",
       "      <th>25</th>\n",
       "      <th>26</th>\n",
       "      <th>27</th>\n",
       "      <th>28</th>\n",
       "      <th>29</th>\n",
       "    </tr>\n",
       "  </thead>\n",
       "  <tbody>\n",
       "    <tr>\n",
       "      <th>0</th>\n",
       "      <td>17.99</td>\n",
       "      <td>10.38</td>\n",
       "      <td>122.80</td>\n",
       "      <td>1001.0</td>\n",
       "      <td>0.11840</td>\n",
       "      <td>0.27760</td>\n",
       "      <td>0.3001</td>\n",
       "      <td>0.14710</td>\n",
       "      <td>0.2419</td>\n",
       "      <td>0.07871</td>\n",
       "      <td>...</td>\n",
       "      <td>25.38</td>\n",
       "      <td>17.33</td>\n",
       "      <td>184.60</td>\n",
       "      <td>2019.0</td>\n",
       "      <td>0.1622</td>\n",
       "      <td>0.6656</td>\n",
       "      <td>0.7119</td>\n",
       "      <td>0.2654</td>\n",
       "      <td>0.4601</td>\n",
       "      <td>0.11890</td>\n",
       "    </tr>\n",
       "    <tr>\n",
       "      <th>1</th>\n",
       "      <td>20.57</td>\n",
       "      <td>17.77</td>\n",
       "      <td>132.90</td>\n",
       "      <td>1326.0</td>\n",
       "      <td>0.08474</td>\n",
       "      <td>0.07864</td>\n",
       "      <td>0.0869</td>\n",
       "      <td>0.07017</td>\n",
       "      <td>0.1812</td>\n",
       "      <td>0.05667</td>\n",
       "      <td>...</td>\n",
       "      <td>24.99</td>\n",
       "      <td>23.41</td>\n",
       "      <td>158.80</td>\n",
       "      <td>1956.0</td>\n",
       "      <td>0.1238</td>\n",
       "      <td>0.1866</td>\n",
       "      <td>0.2416</td>\n",
       "      <td>0.1860</td>\n",
       "      <td>0.2750</td>\n",
       "      <td>0.08902</td>\n",
       "    </tr>\n",
       "    <tr>\n",
       "      <th>2</th>\n",
       "      <td>19.69</td>\n",
       "      <td>21.25</td>\n",
       "      <td>130.00</td>\n",
       "      <td>1203.0</td>\n",
       "      <td>0.10960</td>\n",
       "      <td>0.15990</td>\n",
       "      <td>0.1974</td>\n",
       "      <td>0.12790</td>\n",
       "      <td>0.2069</td>\n",
       "      <td>0.05999</td>\n",
       "      <td>...</td>\n",
       "      <td>23.57</td>\n",
       "      <td>25.53</td>\n",
       "      <td>152.50</td>\n",
       "      <td>1709.0</td>\n",
       "      <td>0.1444</td>\n",
       "      <td>0.4245</td>\n",
       "      <td>0.4504</td>\n",
       "      <td>0.2430</td>\n",
       "      <td>0.3613</td>\n",
       "      <td>0.08758</td>\n",
       "    </tr>\n",
       "    <tr>\n",
       "      <th>3</th>\n",
       "      <td>11.42</td>\n",
       "      <td>20.38</td>\n",
       "      <td>77.58</td>\n",
       "      <td>386.1</td>\n",
       "      <td>0.14250</td>\n",
       "      <td>0.28390</td>\n",
       "      <td>0.2414</td>\n",
       "      <td>0.10520</td>\n",
       "      <td>0.2597</td>\n",
       "      <td>0.09744</td>\n",
       "      <td>...</td>\n",
       "      <td>14.91</td>\n",
       "      <td>26.50</td>\n",
       "      <td>98.87</td>\n",
       "      <td>567.7</td>\n",
       "      <td>0.2098</td>\n",
       "      <td>0.8663</td>\n",
       "      <td>0.6869</td>\n",
       "      <td>0.2575</td>\n",
       "      <td>0.6638</td>\n",
       "      <td>0.17300</td>\n",
       "    </tr>\n",
       "    <tr>\n",
       "      <th>4</th>\n",
       "      <td>20.29</td>\n",
       "      <td>14.34</td>\n",
       "      <td>135.10</td>\n",
       "      <td>1297.0</td>\n",
       "      <td>0.10030</td>\n",
       "      <td>0.13280</td>\n",
       "      <td>0.1980</td>\n",
       "      <td>0.10430</td>\n",
       "      <td>0.1809</td>\n",
       "      <td>0.05883</td>\n",
       "      <td>...</td>\n",
       "      <td>22.54</td>\n",
       "      <td>16.67</td>\n",
       "      <td>152.20</td>\n",
       "      <td>1575.0</td>\n",
       "      <td>0.1374</td>\n",
       "      <td>0.2050</td>\n",
       "      <td>0.4000</td>\n",
       "      <td>0.1625</td>\n",
       "      <td>0.2364</td>\n",
       "      <td>0.07678</td>\n",
       "    </tr>\n",
       "  </tbody>\n",
       "</table>\n",
       "<p>5 rows × 30 columns</p>\n",
       "</div>"
      ],
      "text/plain": [
       "      0      1       2       3        4        5       6        7       8   \\\n",
       "0  17.99  10.38  122.80  1001.0  0.11840  0.27760  0.3001  0.14710  0.2419   \n",
       "1  20.57  17.77  132.90  1326.0  0.08474  0.07864  0.0869  0.07017  0.1812   \n",
       "2  19.69  21.25  130.00  1203.0  0.10960  0.15990  0.1974  0.12790  0.2069   \n",
       "3  11.42  20.38   77.58   386.1  0.14250  0.28390  0.2414  0.10520  0.2597   \n",
       "4  20.29  14.34  135.10  1297.0  0.10030  0.13280  0.1980  0.10430  0.1809   \n",
       "\n",
       "        9   ...     20     21      22      23      24      25      26      27  \\\n",
       "0  0.07871  ...  25.38  17.33  184.60  2019.0  0.1622  0.6656  0.7119  0.2654   \n",
       "1  0.05667  ...  24.99  23.41  158.80  1956.0  0.1238  0.1866  0.2416  0.1860   \n",
       "2  0.05999  ...  23.57  25.53  152.50  1709.0  0.1444  0.4245  0.4504  0.2430   \n",
       "3  0.09744  ...  14.91  26.50   98.87   567.7  0.2098  0.8663  0.6869  0.2575   \n",
       "4  0.05883  ...  22.54  16.67  152.20  1575.0  0.1374  0.2050  0.4000  0.1625   \n",
       "\n",
       "       28       29  \n",
       "0  0.4601  0.11890  \n",
       "1  0.2750  0.08902  \n",
       "2  0.3613  0.08758  \n",
       "3  0.6638  0.17300  \n",
       "4  0.2364  0.07678  \n",
       "\n",
       "[5 rows x 30 columns]"
      ]
     },
     "metadata": {},
     "output_type": "display_data"
    },
    {
     "data": {
      "text/plain": [
       "array([0, 0, 0, 0, 0, 0, 0, 0, 0, 0, 0, 0, 0, 0, 0, 0, 0, 0, 0, 1, 1, 1,\n",
       "       0, 0, 0, 0, 0, 0, 0, 0, 0, 0, 0, 0, 0, 0, 0, 1, 0, 0, 0, 0, 0, 0,\n",
       "       0, 0, 1, 0, 1, 1, 1, 1, 1, 0, 0, 1, 0, 0, 1, 1, 1, 1, 0, 1, 0, 0,\n",
       "       1, 1, 1, 1, 0, 1, 0, 0, 1, 0, 1, 0, 0, 1, 1, 1, 0, 0, 1, 0, 0, 0,\n",
       "       1, 1, 1, 0, 1, 1, 0, 0, 1, 1, 1, 0, 0, 1, 1, 1, 1, 0, 1, 1, 0, 1,\n",
       "       1, 1, 1, 1, 1, 1, 1, 0, 0, 0, 1, 0, 0, 1, 1, 1, 0, 0, 1, 0, 1, 0,\n",
       "       0, 1, 0, 0, 1, 1, 0, 1, 1, 0, 1, 1, 1, 1, 0, 1, 1, 1, 1, 1, 1, 1,\n",
       "       1, 1, 0, 1, 1, 1, 1, 0, 0, 1, 0, 1, 1, 0, 0, 1, 1, 0, 0, 1, 1, 1,\n",
       "       1, 0, 1, 1, 0, 0, 0, 1, 0, 1, 0, 1, 1, 1, 0, 1, 1, 0, 0, 1, 0, 0,\n",
       "       0, 0, 1, 0, 0, 0, 1, 0, 1, 0, 1, 1, 0, 1, 0, 0, 0, 0, 1, 1, 0, 0,\n",
       "       1, 1, 1, 0, 1, 1, 1, 1, 1, 0, 0, 1, 1, 0, 1, 1, 0, 0, 1, 0, 1, 1,\n",
       "       1, 1, 0, 1, 1, 1, 1, 1, 0, 1, 0, 0, 0, 0, 0, 0, 0, 0, 0, 0, 0, 0,\n",
       "       0, 0, 1, 1, 1, 1, 1, 1, 0, 1, 0, 1, 1, 0, 1, 1, 0, 1, 0, 0, 1, 1,\n",
       "       1, 1, 1, 1, 1, 1, 1, 1, 1, 1, 1, 0, 1, 1, 0, 1, 0, 1, 1, 1, 1, 1,\n",
       "       1, 1, 1, 1, 1, 1, 1, 1, 1, 0, 1, 1, 1, 0, 1, 0, 1, 1, 1, 1, 0, 0,\n",
       "       0, 1, 1, 1, 1, 0, 1, 0, 1, 0, 1, 1, 1, 0, 1, 1, 1, 1, 1, 1, 1, 0,\n",
       "       0, 0, 1, 1, 1, 1, 1, 1, 1, 1, 1, 1, 1, 0, 0, 1, 0, 0, 0, 1, 0, 0,\n",
       "       1, 1, 1, 1, 1, 0, 1, 1, 1, 1, 1, 0, 1, 1, 1, 0, 1, 1, 0, 0, 1, 1,\n",
       "       1, 1, 1, 1, 0, 1, 1, 1, 1, 1, 1, 1, 0, 1, 1, 1, 1, 1, 0, 1, 1, 0,\n",
       "       1, 1, 1, 1, 1, 1, 1, 1, 1, 1, 1, 1, 0, 1, 0, 0, 1, 0, 1, 1, 1, 1,\n",
       "       1, 0, 1, 1, 0, 1, 0, 1, 1, 0, 1, 0, 1, 1, 1, 1, 1, 1, 1, 1, 0, 0,\n",
       "       1, 1, 1, 1, 1, 1, 0, 1, 1, 1, 1, 1, 1, 1, 1, 1, 1, 0, 1, 1, 1, 1,\n",
       "       1, 1, 1, 0, 1, 0, 1, 1, 0, 1, 1, 1, 1, 1, 0, 0, 1, 0, 1, 0, 1, 1,\n",
       "       1, 1, 1, 0, 1, 1, 0, 1, 0, 1, 0, 0, 1, 1, 1, 0, 1, 1, 1, 1, 1, 1,\n",
       "       1, 1, 1, 1, 1, 0, 1, 0, 0, 1, 1, 1, 1, 1, 1, 1, 1, 1, 1, 1, 1, 1,\n",
       "       1, 1, 1, 1, 1, 1, 1, 1, 1, 1, 1, 1, 0, 0, 0, 0, 0, 0, 1])"
      ]
     },
     "metadata": {},
     "output_type": "display_data"
    }
   ],
   "source": [
    "display(ci)\n",
    "display(cl)"
   ]
  },
  {
   "cell_type": "code",
   "execution_count": 161,
   "id": "2691b168",
   "metadata": {
    "ExecuteTime": {
     "end_time": "2021-11-16T04:21:20.945048Z",
     "start_time": "2021-11-16T04:21:20.915306Z"
    }
   },
   "outputs": [
    {
     "data": {
      "text/html": [
       "<div>\n",
       "<style scoped>\n",
       "    .dataframe tbody tr th:only-of-type {\n",
       "        vertical-align: middle;\n",
       "    }\n",
       "\n",
       "    .dataframe tbody tr th {\n",
       "        vertical-align: top;\n",
       "    }\n",
       "\n",
       "    .dataframe thead th {\n",
       "        text-align: right;\n",
       "    }\n",
       "</style>\n",
       "<table border=\"1\" class=\"dataframe\">\n",
       "  <thead>\n",
       "    <tr style=\"text-align: right;\">\n",
       "      <th></th>\n",
       "      <th>0</th>\n",
       "      <th>1</th>\n",
       "      <th>2</th>\n",
       "      <th>3</th>\n",
       "      <th>4</th>\n",
       "      <th>5</th>\n",
       "      <th>6</th>\n",
       "      <th>7</th>\n",
       "      <th>8</th>\n",
       "      <th>9</th>\n",
       "      <th>...</th>\n",
       "      <th>20</th>\n",
       "      <th>21</th>\n",
       "      <th>22</th>\n",
       "      <th>23</th>\n",
       "      <th>24</th>\n",
       "      <th>25</th>\n",
       "      <th>26</th>\n",
       "      <th>27</th>\n",
       "      <th>28</th>\n",
       "      <th>29</th>\n",
       "    </tr>\n",
       "  </thead>\n",
       "  <tbody>\n",
       "    <tr>\n",
       "      <th>0</th>\n",
       "      <td>17.99</td>\n",
       "      <td>10.38</td>\n",
       "      <td>122.80</td>\n",
       "      <td>1001.0</td>\n",
       "      <td>0.11840</td>\n",
       "      <td>0.27760</td>\n",
       "      <td>0.3001</td>\n",
       "      <td>0.14710</td>\n",
       "      <td>0.2419</td>\n",
       "      <td>0.07871</td>\n",
       "      <td>...</td>\n",
       "      <td>25.38</td>\n",
       "      <td>17.33</td>\n",
       "      <td>184.60</td>\n",
       "      <td>2019.0</td>\n",
       "      <td>0.1622</td>\n",
       "      <td>0.6656</td>\n",
       "      <td>0.7119</td>\n",
       "      <td>0.2654</td>\n",
       "      <td>0.4601</td>\n",
       "      <td>0.11890</td>\n",
       "    </tr>\n",
       "    <tr>\n",
       "      <th>1</th>\n",
       "      <td>20.57</td>\n",
       "      <td>17.77</td>\n",
       "      <td>132.90</td>\n",
       "      <td>1326.0</td>\n",
       "      <td>0.08474</td>\n",
       "      <td>0.07864</td>\n",
       "      <td>0.0869</td>\n",
       "      <td>0.07017</td>\n",
       "      <td>0.1812</td>\n",
       "      <td>0.05667</td>\n",
       "      <td>...</td>\n",
       "      <td>24.99</td>\n",
       "      <td>23.41</td>\n",
       "      <td>158.80</td>\n",
       "      <td>1956.0</td>\n",
       "      <td>0.1238</td>\n",
       "      <td>0.1866</td>\n",
       "      <td>0.2416</td>\n",
       "      <td>0.1860</td>\n",
       "      <td>0.2750</td>\n",
       "      <td>0.08902</td>\n",
       "    </tr>\n",
       "    <tr>\n",
       "      <th>2</th>\n",
       "      <td>19.69</td>\n",
       "      <td>21.25</td>\n",
       "      <td>130.00</td>\n",
       "      <td>1203.0</td>\n",
       "      <td>0.10960</td>\n",
       "      <td>0.15990</td>\n",
       "      <td>0.1974</td>\n",
       "      <td>0.12790</td>\n",
       "      <td>0.2069</td>\n",
       "      <td>0.05999</td>\n",
       "      <td>...</td>\n",
       "      <td>23.57</td>\n",
       "      <td>25.53</td>\n",
       "      <td>152.50</td>\n",
       "      <td>1709.0</td>\n",
       "      <td>0.1444</td>\n",
       "      <td>0.4245</td>\n",
       "      <td>0.4504</td>\n",
       "      <td>0.2430</td>\n",
       "      <td>0.3613</td>\n",
       "      <td>0.08758</td>\n",
       "    </tr>\n",
       "    <tr>\n",
       "      <th>3</th>\n",
       "      <td>11.42</td>\n",
       "      <td>20.38</td>\n",
       "      <td>77.58</td>\n",
       "      <td>386.1</td>\n",
       "      <td>0.14250</td>\n",
       "      <td>0.28390</td>\n",
       "      <td>0.2414</td>\n",
       "      <td>0.10520</td>\n",
       "      <td>0.2597</td>\n",
       "      <td>0.09744</td>\n",
       "      <td>...</td>\n",
       "      <td>14.91</td>\n",
       "      <td>26.50</td>\n",
       "      <td>98.87</td>\n",
       "      <td>567.7</td>\n",
       "      <td>0.2098</td>\n",
       "      <td>0.8663</td>\n",
       "      <td>0.6869</td>\n",
       "      <td>0.2575</td>\n",
       "      <td>0.6638</td>\n",
       "      <td>0.17300</td>\n",
       "    </tr>\n",
       "    <tr>\n",
       "      <th>4</th>\n",
       "      <td>20.29</td>\n",
       "      <td>14.34</td>\n",
       "      <td>135.10</td>\n",
       "      <td>1297.0</td>\n",
       "      <td>0.10030</td>\n",
       "      <td>0.13280</td>\n",
       "      <td>0.1980</td>\n",
       "      <td>0.10430</td>\n",
       "      <td>0.1809</td>\n",
       "      <td>0.05883</td>\n",
       "      <td>...</td>\n",
       "      <td>22.54</td>\n",
       "      <td>16.67</td>\n",
       "      <td>152.20</td>\n",
       "      <td>1575.0</td>\n",
       "      <td>0.1374</td>\n",
       "      <td>0.2050</td>\n",
       "      <td>0.4000</td>\n",
       "      <td>0.1625</td>\n",
       "      <td>0.2364</td>\n",
       "      <td>0.07678</td>\n",
       "    </tr>\n",
       "  </tbody>\n",
       "</table>\n",
       "<p>5 rows × 30 columns</p>\n",
       "</div>"
      ],
      "text/plain": [
       "      0      1       2       3        4        5       6        7       8   \\\n",
       "0  17.99  10.38  122.80  1001.0  0.11840  0.27760  0.3001  0.14710  0.2419   \n",
       "1  20.57  17.77  132.90  1326.0  0.08474  0.07864  0.0869  0.07017  0.1812   \n",
       "2  19.69  21.25  130.00  1203.0  0.10960  0.15990  0.1974  0.12790  0.2069   \n",
       "3  11.42  20.38   77.58   386.1  0.14250  0.28390  0.2414  0.10520  0.2597   \n",
       "4  20.29  14.34  135.10  1297.0  0.10030  0.13280  0.1980  0.10430  0.1809   \n",
       "\n",
       "        9   ...     20     21      22      23      24      25      26      27  \\\n",
       "0  0.07871  ...  25.38  17.33  184.60  2019.0  0.1622  0.6656  0.7119  0.2654   \n",
       "1  0.05667  ...  24.99  23.41  158.80  1956.0  0.1238  0.1866  0.2416  0.1860   \n",
       "2  0.05999  ...  23.57  25.53  152.50  1709.0  0.1444  0.4245  0.4504  0.2430   \n",
       "3  0.09744  ...  14.91  26.50   98.87   567.7  0.2098  0.8663  0.6869  0.2575   \n",
       "4  0.05883  ...  22.54  16.67  152.20  1575.0  0.1374  0.2050  0.4000  0.1625   \n",
       "\n",
       "       28       29  \n",
       "0  0.4601  0.11890  \n",
       "1  0.2750  0.08902  \n",
       "2  0.3613  0.08758  \n",
       "3  0.6638  0.17300  \n",
       "4  0.2364  0.07678  \n",
       "\n",
       "[5 rows x 30 columns]"
      ]
     },
     "execution_count": 161,
     "metadata": {},
     "output_type": "execute_result"
    }
   ],
   "source": [
    "ci"
   ]
  },
  {
   "cell_type": "code",
   "execution_count": 162,
   "id": "1e540649",
   "metadata": {
    "ExecuteTime": {
     "end_time": "2021-11-16T04:21:20.950101Z",
     "start_time": "2021-11-16T04:21:20.946193Z"
    }
   },
   "outputs": [
    {
     "data": {
      "text/plain": [
       "array([0, 0, 0, 0, 0, 0, 0, 0, 0, 0, 0, 0, 0, 0, 0, 0, 0, 0, 0, 1, 1, 1,\n",
       "       0, 0, 0, 0, 0, 0, 0, 0, 0, 0, 0, 0, 0, 0, 0, 1, 0, 0, 0, 0, 0, 0,\n",
       "       0, 0, 1, 0, 1, 1, 1, 1, 1, 0, 0, 1, 0, 0, 1, 1, 1, 1, 0, 1, 0, 0,\n",
       "       1, 1, 1, 1, 0, 1, 0, 0, 1, 0, 1, 0, 0, 1, 1, 1, 0, 0, 1, 0, 0, 0,\n",
       "       1, 1, 1, 0, 1, 1, 0, 0, 1, 1, 1, 0, 0, 1, 1, 1, 1, 0, 1, 1, 0, 1,\n",
       "       1, 1, 1, 1, 1, 1, 1, 0, 0, 0, 1, 0, 0, 1, 1, 1, 0, 0, 1, 0, 1, 0,\n",
       "       0, 1, 0, 0, 1, 1, 0, 1, 1, 0, 1, 1, 1, 1, 0, 1, 1, 1, 1, 1, 1, 1,\n",
       "       1, 1, 0, 1, 1, 1, 1, 0, 0, 1, 0, 1, 1, 0, 0, 1, 1, 0, 0, 1, 1, 1,\n",
       "       1, 0, 1, 1, 0, 0, 0, 1, 0, 1, 0, 1, 1, 1, 0, 1, 1, 0, 0, 1, 0, 0,\n",
       "       0, 0, 1, 0, 0, 0, 1, 0, 1, 0, 1, 1, 0, 1, 0, 0, 0, 0, 1, 1, 0, 0,\n",
       "       1, 1, 1, 0, 1, 1, 1, 1, 1, 0, 0, 1, 1, 0, 1, 1, 0, 0, 1, 0, 1, 1,\n",
       "       1, 1, 0, 1, 1, 1, 1, 1, 0, 1, 0, 0, 0, 0, 0, 0, 0, 0, 0, 0, 0, 0,\n",
       "       0, 0, 1, 1, 1, 1, 1, 1, 0, 1, 0, 1, 1, 0, 1, 1, 0, 1, 0, 0, 1, 1,\n",
       "       1, 1, 1, 1, 1, 1, 1, 1, 1, 1, 1, 0, 1, 1, 0, 1, 0, 1, 1, 1, 1, 1,\n",
       "       1, 1, 1, 1, 1, 1, 1, 1, 1, 0, 1, 1, 1, 0, 1, 0, 1, 1, 1, 1, 0, 0,\n",
       "       0, 1, 1, 1, 1, 0, 1, 0, 1, 0, 1, 1, 1, 0, 1, 1, 1, 1, 1, 1, 1, 0,\n",
       "       0, 0, 1, 1, 1, 1, 1, 1, 1, 1, 1, 1, 1, 0, 0, 1, 0, 0, 0, 1, 0, 0,\n",
       "       1, 1, 1, 1, 1, 0, 1, 1, 1, 1, 1, 0, 1, 1, 1, 0, 1, 1, 0, 0, 1, 1,\n",
       "       1, 1, 1, 1, 0, 1, 1, 1, 1, 1, 1, 1, 0, 1, 1, 1, 1, 1, 0, 1, 1, 0,\n",
       "       1, 1, 1, 1, 1, 1, 1, 1, 1, 1, 1, 1, 0, 1, 0, 0, 1, 0, 1, 1, 1, 1,\n",
       "       1, 0, 1, 1, 0, 1, 0, 1, 1, 0, 1, 0, 1, 1, 1, 1, 1, 1, 1, 1, 0, 0,\n",
       "       1, 1, 1, 1, 1, 1, 0, 1, 1, 1, 1, 1, 1, 1, 1, 1, 1, 0, 1, 1, 1, 1,\n",
       "       1, 1, 1, 0, 1, 0, 1, 1, 0, 1, 1, 1, 1, 1, 0, 0, 1, 0, 1, 0, 1, 1,\n",
       "       1, 1, 1, 0, 1, 1, 0, 1, 0, 1, 0, 0, 1, 1, 1, 0, 1, 1, 1, 1, 1, 1,\n",
       "       1, 1, 1, 1, 1, 0, 1, 0, 0, 1, 1, 1, 1, 1, 1, 1, 1, 1, 1, 1, 1, 1,\n",
       "       1, 1, 1, 1, 1, 1, 1, 1, 1, 1, 1, 1, 0, 0, 0, 0, 0, 0, 1])"
      ]
     },
     "metadata": {},
     "output_type": "display_data"
    }
   ],
   "source": [
    "display(cl)"
   ]
  },
  {
   "cell_type": "code",
   "execution_count": 163,
   "id": "fc85aedf",
   "metadata": {
    "ExecuteTime": {
     "end_time": "2021-11-16T04:21:20.954912Z",
     "start_time": "2021-11-16T04:21:20.951268Z"
    }
   },
   "outputs": [
    {
     "data": {
      "text/plain": [
       "(569, 31)"
      ]
     },
     "execution_count": 163,
     "metadata": {},
     "output_type": "execute_result"
    }
   ],
   "source": [
    "labels = np.reshape(cancer_labels,(569,1))\n",
    "final_cancer_data = np.concatenate([cancer_data,labels],axis=1)\n",
    "final_cancer_data.shape"
   ]
  },
  {
   "cell_type": "code",
   "execution_count": 164,
   "id": "14fc698c",
   "metadata": {
    "ExecuteTime": {
     "end_time": "2021-11-16T04:21:20.975311Z",
     "start_time": "2021-11-16T04:21:20.956193Z"
    }
   },
   "outputs": [
    {
     "data": {
      "text/html": [
       "<div>\n",
       "<style scoped>\n",
       "    .dataframe tbody tr th:only-of-type {\n",
       "        vertical-align: middle;\n",
       "    }\n",
       "\n",
       "    .dataframe tbody tr th {\n",
       "        vertical-align: top;\n",
       "    }\n",
       "\n",
       "    .dataframe thead th {\n",
       "        text-align: right;\n",
       "    }\n",
       "</style>\n",
       "<table border=\"1\" class=\"dataframe\">\n",
       "  <thead>\n",
       "    <tr style=\"text-align: right;\">\n",
       "      <th></th>\n",
       "      <th>mean radius</th>\n",
       "      <th>mean texture</th>\n",
       "      <th>mean perimeter</th>\n",
       "      <th>mean area</th>\n",
       "      <th>mean smoothness</th>\n",
       "      <th>mean compactness</th>\n",
       "      <th>mean concavity</th>\n",
       "      <th>mean concave points</th>\n",
       "      <th>mean symmetry</th>\n",
       "      <th>mean fractal dimension</th>\n",
       "      <th>...</th>\n",
       "      <th>worst texture</th>\n",
       "      <th>worst perimeter</th>\n",
       "      <th>worst area</th>\n",
       "      <th>worst smoothness</th>\n",
       "      <th>worst compactness</th>\n",
       "      <th>worst concavity</th>\n",
       "      <th>worst concave points</th>\n",
       "      <th>worst symmetry</th>\n",
       "      <th>worst fractal dimension</th>\n",
       "      <th>label</th>\n",
       "    </tr>\n",
       "  </thead>\n",
       "  <tbody>\n",
       "    <tr>\n",
       "      <th>0</th>\n",
       "      <td>17.99</td>\n",
       "      <td>10.38</td>\n",
       "      <td>122.80</td>\n",
       "      <td>1001.0</td>\n",
       "      <td>0.11840</td>\n",
       "      <td>0.27760</td>\n",
       "      <td>0.3001</td>\n",
       "      <td>0.14710</td>\n",
       "      <td>0.2419</td>\n",
       "      <td>0.07871</td>\n",
       "      <td>...</td>\n",
       "      <td>17.33</td>\n",
       "      <td>184.60</td>\n",
       "      <td>2019.0</td>\n",
       "      <td>0.1622</td>\n",
       "      <td>0.6656</td>\n",
       "      <td>0.7119</td>\n",
       "      <td>0.2654</td>\n",
       "      <td>0.4601</td>\n",
       "      <td>0.11890</td>\n",
       "      <td>0.0</td>\n",
       "    </tr>\n",
       "    <tr>\n",
       "      <th>1</th>\n",
       "      <td>20.57</td>\n",
       "      <td>17.77</td>\n",
       "      <td>132.90</td>\n",
       "      <td>1326.0</td>\n",
       "      <td>0.08474</td>\n",
       "      <td>0.07864</td>\n",
       "      <td>0.0869</td>\n",
       "      <td>0.07017</td>\n",
       "      <td>0.1812</td>\n",
       "      <td>0.05667</td>\n",
       "      <td>...</td>\n",
       "      <td>23.41</td>\n",
       "      <td>158.80</td>\n",
       "      <td>1956.0</td>\n",
       "      <td>0.1238</td>\n",
       "      <td>0.1866</td>\n",
       "      <td>0.2416</td>\n",
       "      <td>0.1860</td>\n",
       "      <td>0.2750</td>\n",
       "      <td>0.08902</td>\n",
       "      <td>0.0</td>\n",
       "    </tr>\n",
       "    <tr>\n",
       "      <th>2</th>\n",
       "      <td>19.69</td>\n",
       "      <td>21.25</td>\n",
       "      <td>130.00</td>\n",
       "      <td>1203.0</td>\n",
       "      <td>0.10960</td>\n",
       "      <td>0.15990</td>\n",
       "      <td>0.1974</td>\n",
       "      <td>0.12790</td>\n",
       "      <td>0.2069</td>\n",
       "      <td>0.05999</td>\n",
       "      <td>...</td>\n",
       "      <td>25.53</td>\n",
       "      <td>152.50</td>\n",
       "      <td>1709.0</td>\n",
       "      <td>0.1444</td>\n",
       "      <td>0.4245</td>\n",
       "      <td>0.4504</td>\n",
       "      <td>0.2430</td>\n",
       "      <td>0.3613</td>\n",
       "      <td>0.08758</td>\n",
       "      <td>0.0</td>\n",
       "    </tr>\n",
       "    <tr>\n",
       "      <th>3</th>\n",
       "      <td>11.42</td>\n",
       "      <td>20.38</td>\n",
       "      <td>77.58</td>\n",
       "      <td>386.1</td>\n",
       "      <td>0.14250</td>\n",
       "      <td>0.28390</td>\n",
       "      <td>0.2414</td>\n",
       "      <td>0.10520</td>\n",
       "      <td>0.2597</td>\n",
       "      <td>0.09744</td>\n",
       "      <td>...</td>\n",
       "      <td>26.50</td>\n",
       "      <td>98.87</td>\n",
       "      <td>567.7</td>\n",
       "      <td>0.2098</td>\n",
       "      <td>0.8663</td>\n",
       "      <td>0.6869</td>\n",
       "      <td>0.2575</td>\n",
       "      <td>0.6638</td>\n",
       "      <td>0.17300</td>\n",
       "      <td>0.0</td>\n",
       "    </tr>\n",
       "    <tr>\n",
       "      <th>4</th>\n",
       "      <td>20.29</td>\n",
       "      <td>14.34</td>\n",
       "      <td>135.10</td>\n",
       "      <td>1297.0</td>\n",
       "      <td>0.10030</td>\n",
       "      <td>0.13280</td>\n",
       "      <td>0.1980</td>\n",
       "      <td>0.10430</td>\n",
       "      <td>0.1809</td>\n",
       "      <td>0.05883</td>\n",
       "      <td>...</td>\n",
       "      <td>16.67</td>\n",
       "      <td>152.20</td>\n",
       "      <td>1575.0</td>\n",
       "      <td>0.1374</td>\n",
       "      <td>0.2050</td>\n",
       "      <td>0.4000</td>\n",
       "      <td>0.1625</td>\n",
       "      <td>0.2364</td>\n",
       "      <td>0.07678</td>\n",
       "      <td>0.0</td>\n",
       "    </tr>\n",
       "  </tbody>\n",
       "</table>\n",
       "<p>5 rows × 31 columns</p>\n",
       "</div>"
      ],
      "text/plain": [
       "   mean radius  mean texture  mean perimeter  mean area  mean smoothness  \\\n",
       "0        17.99         10.38          122.80     1001.0          0.11840   \n",
       "1        20.57         17.77          132.90     1326.0          0.08474   \n",
       "2        19.69         21.25          130.00     1203.0          0.10960   \n",
       "3        11.42         20.38           77.58      386.1          0.14250   \n",
       "4        20.29         14.34          135.10     1297.0          0.10030   \n",
       "\n",
       "   mean compactness  mean concavity  mean concave points  mean symmetry  \\\n",
       "0           0.27760          0.3001              0.14710         0.2419   \n",
       "1           0.07864          0.0869              0.07017         0.1812   \n",
       "2           0.15990          0.1974              0.12790         0.2069   \n",
       "3           0.28390          0.2414              0.10520         0.2597   \n",
       "4           0.13280          0.1980              0.10430         0.1809   \n",
       "\n",
       "   mean fractal dimension  ...  worst texture  worst perimeter  worst area  \\\n",
       "0                 0.07871  ...          17.33           184.60      2019.0   \n",
       "1                 0.05667  ...          23.41           158.80      1956.0   \n",
       "2                 0.05999  ...          25.53           152.50      1709.0   \n",
       "3                 0.09744  ...          26.50            98.87       567.7   \n",
       "4                 0.05883  ...          16.67           152.20      1575.0   \n",
       "\n",
       "   worst smoothness  worst compactness  worst concavity  worst concave points  \\\n",
       "0            0.1622             0.6656           0.7119                0.2654   \n",
       "1            0.1238             0.1866           0.2416                0.1860   \n",
       "2            0.1444             0.4245           0.4504                0.2430   \n",
       "3            0.2098             0.8663           0.6869                0.2575   \n",
       "4            0.1374             0.2050           0.4000                0.1625   \n",
       "\n",
       "   worst symmetry  worst fractal dimension  label  \n",
       "0          0.4601                  0.11890    0.0  \n",
       "1          0.2750                  0.08902    0.0  \n",
       "2          0.3613                  0.08758    0.0  \n",
       "3          0.6638                  0.17300    0.0  \n",
       "4          0.2364                  0.07678    0.0  \n",
       "\n",
       "[5 rows x 31 columns]"
      ]
     },
     "execution_count": 164,
     "metadata": {},
     "output_type": "execute_result"
    }
   ],
   "source": [
    "cancer_dataset = pd.DataFrame(final_cancer_data)\n",
    "features = cancer.feature_names\n",
    "features\n",
    "features_labels = np.append(features,'label') \n",
    "cancer_dataset.columns = features_labels \n",
    "cancer_dataset.head()"
   ]
  },
  {
   "cell_type": "code",
   "execution_count": 165,
   "id": "2b72749b",
   "metadata": {
    "ExecuteTime": {
     "end_time": "2021-11-16T04:21:20.992240Z",
     "start_time": "2021-11-16T04:21:20.977270Z"
    },
    "scrolled": true
   },
   "outputs": [
    {
     "data": {
      "text/plain": [
       "<bound method DataFrame.lookup of      mean radius  mean texture  mean perimeter  mean area  mean smoothness  \\\n",
       "0          17.99         10.38          122.80     1001.0          0.11840   \n",
       "1          20.57         17.77          132.90     1326.0          0.08474   \n",
       "2          19.69         21.25          130.00     1203.0          0.10960   \n",
       "3          11.42         20.38           77.58      386.1          0.14250   \n",
       "4          20.29         14.34          135.10     1297.0          0.10030   \n",
       "..           ...           ...             ...        ...              ...   \n",
       "564        21.56         22.39          142.00     1479.0          0.11100   \n",
       "565        20.13         28.25          131.20     1261.0          0.09780   \n",
       "566        16.60         28.08          108.30      858.1          0.08455   \n",
       "567        20.60         29.33          140.10     1265.0          0.11780   \n",
       "568         7.76         24.54           47.92      181.0          0.05263   \n",
       "\n",
       "     mean compactness  mean concavity  mean concave points  mean symmetry  \\\n",
       "0             0.27760         0.30010              0.14710         0.2419   \n",
       "1             0.07864         0.08690              0.07017         0.1812   \n",
       "2             0.15990         0.19740              0.12790         0.2069   \n",
       "3             0.28390         0.24140              0.10520         0.2597   \n",
       "4             0.13280         0.19800              0.10430         0.1809   \n",
       "..                ...             ...                  ...            ...   \n",
       "564           0.11590         0.24390              0.13890         0.1726   \n",
       "565           0.10340         0.14400              0.09791         0.1752   \n",
       "566           0.10230         0.09251              0.05302         0.1590   \n",
       "567           0.27700         0.35140              0.15200         0.2397   \n",
       "568           0.04362         0.00000              0.00000         0.1587   \n",
       "\n",
       "     mean fractal dimension  ...  worst texture  worst perimeter  worst area  \\\n",
       "0                   0.07871  ...          17.33           184.60      2019.0   \n",
       "1                   0.05667  ...          23.41           158.80      1956.0   \n",
       "2                   0.05999  ...          25.53           152.50      1709.0   \n",
       "3                   0.09744  ...          26.50            98.87       567.7   \n",
       "4                   0.05883  ...          16.67           152.20      1575.0   \n",
       "..                      ...  ...            ...              ...         ...   \n",
       "564                 0.05623  ...          26.40           166.10      2027.0   \n",
       "565                 0.05533  ...          38.25           155.00      1731.0   \n",
       "566                 0.05648  ...          34.12           126.70      1124.0   \n",
       "567                 0.07016  ...          39.42           184.60      1821.0   \n",
       "568                 0.05884  ...          30.37            59.16       268.6   \n",
       "\n",
       "     worst smoothness  worst compactness  worst concavity  \\\n",
       "0             0.16220            0.66560           0.7119   \n",
       "1             0.12380            0.18660           0.2416   \n",
       "2             0.14440            0.42450           0.4504   \n",
       "3             0.20980            0.86630           0.6869   \n",
       "4             0.13740            0.20500           0.4000   \n",
       "..                ...                ...              ...   \n",
       "564           0.14100            0.21130           0.4107   \n",
       "565           0.11660            0.19220           0.3215   \n",
       "566           0.11390            0.30940           0.3403   \n",
       "567           0.16500            0.86810           0.9387   \n",
       "568           0.08996            0.06444           0.0000   \n",
       "\n",
       "     worst concave points  worst symmetry  worst fractal dimension      label  \n",
       "0                  0.2654          0.4601                  0.11890     Benign  \n",
       "1                  0.1860          0.2750                  0.08902     Benign  \n",
       "2                  0.2430          0.3613                  0.08758     Benign  \n",
       "3                  0.2575          0.6638                  0.17300     Benign  \n",
       "4                  0.1625          0.2364                  0.07678     Benign  \n",
       "..                    ...             ...                      ...        ...  \n",
       "564                0.2216          0.2060                  0.07115     Benign  \n",
       "565                0.1628          0.2572                  0.06637     Benign  \n",
       "566                0.1418          0.2218                  0.07820     Benign  \n",
       "567                0.2650          0.4087                  0.12400     Benign  \n",
       "568                0.0000          0.2871                  0.07039  Malignant  \n",
       "\n",
       "[569 rows x 31 columns]>"
      ]
     },
     "execution_count": 165,
     "metadata": {},
     "output_type": "execute_result"
    }
   ],
   "source": [
    "cancer_dataset['label'].replace(0, 'Benign',inplace=True) \n",
    "cancer_dataset['label'].replace(1, 'Malignant',inplace=True) \n",
    "cancer_dataset.head()\n",
    "cancer_dataset.tail()\n",
    "cancer_dataset.lookup"
   ]
  },
  {
   "cell_type": "code",
   "execution_count": 166,
   "id": "d0ade2d9",
   "metadata": {
    "ExecuteTime": {
     "end_time": "2021-11-16T04:21:20.997705Z",
     "start_time": "2021-11-16T04:21:20.993866Z"
    }
   },
   "outputs": [
    {
     "data": {
      "text/plain": [
       "array(['Benign', 'Benign', 'Benign', 'Benign', 'Benign', 'Benign',\n",
       "       'Benign', 'Benign', 'Benign', 'Benign', 'Benign', 'Benign',\n",
       "       'Benign', 'Benign', 'Benign', 'Benign', 'Benign', 'Benign',\n",
       "       'Benign', 'Malignant', 'Malignant', 'Malignant', 'Benign',\n",
       "       'Benign', 'Benign', 'Benign', 'Benign', 'Benign', 'Benign',\n",
       "       'Benign'], dtype=object)"
      ]
     },
     "execution_count": 166,
     "metadata": {},
     "output_type": "execute_result"
    }
   ],
   "source": [
    "X = cancer_dataset.iloc[:,0:30].values\n",
    "Y = cancer_dataset.iloc[:,30].values\n",
    "X[0:2]\n",
    "Y[0:30]"
   ]
  },
  {
   "cell_type": "code",
   "execution_count": 167,
   "id": "17be0f21",
   "metadata": {
    "ExecuteTime": {
     "end_time": "2021-11-16T04:21:21.005217Z",
     "start_time": "2021-11-16T04:21:20.998882Z"
    }
   },
   "outputs": [
    {
     "data": {
      "text/plain": [
       "array([[ 0.1318529 , -1.22289689,  0.22619275, -0.02342069,  0.49000614,\n",
       "         1.51274076,  0.69035091,  0.34062714,  1.00887608,  1.68985368,\n",
       "         0.46502905,  0.4984039 ,  0.89667244,  0.15891919,  0.96784528,\n",
       "         1.47162979,  0.71801321,  0.62374042,  0.72742307,  0.58673486,\n",
       "         0.0096267 , -1.17235657,  0.16795261, -0.15304782, -0.04232703,\n",
       "         0.69426554,  0.24403833, -0.07497962, -0.09827233,  0.50779424],\n",
       "       [-0.28874137, -0.15799931, -0.26406701, -0.35886667,  1.41492503,\n",
       "         0.34748089,  0.41096309,  0.6047969 ,  1.16313403,  0.75249628,\n",
       "        -0.43754168, -0.57647299, -0.48507353, -0.36066018, -0.15852592,\n",
       "        -0.13506781, -0.09651403,  0.04271576, -0.37313667, -0.06434509,\n",
       "        -0.14811217,  0.3573236 , -0.15665281, -0.23681236,  2.09613603,\n",
       "         1.03762014,  1.11980787,  1.38865765,  1.72716717,  2.06060854]])"
      ]
     },
     "execution_count": 167,
     "metadata": {},
     "output_type": "execute_result"
    }
   ],
   "source": [
    "np.random.seed(0)\n",
    "X_train, X_test, Y_train, Y_test = train_test_split(X,Y,train_size =0.8, test_size = 0.2, random_state = 1)\n",
    "X_train.shape\n",
    "scalar_X = StandardScaler()\n",
    "X_train = scalar_X.fit_transform(X_train)\n",
    "X_test = scalar_X.transform(X_test)\n",
    "X_train[0:2]\n",
    "X_test[0:2]"
   ]
  },
  {
   "cell_type": "code",
   "execution_count": null,
   "id": "f9806c68",
   "metadata": {},
   "outputs": [],
   "source": []
  },
  {
   "cell_type": "code",
   "execution_count": 168,
   "id": "44797f93",
   "metadata": {
    "ExecuteTime": {
     "end_time": "2021-11-16T04:21:21.020189Z",
     "start_time": "2021-11-16T04:21:21.007385Z"
    }
   },
   "outputs": [
    {
     "data": {
      "text/plain": [
       "array(['Malignant', 'Benign', 'Malignant', 'Benign', 'Benign', 'Benign',\n",
       "       'Benign', 'Benign', 'Malignant', 'Malignant', 'Malignant',\n",
       "       'Benign', 'Benign', 'Malignant', 'Malignant', 'Malignant',\n",
       "       'Malignant', 'Malignant', 'Malignant', 'Benign', 'Malignant',\n",
       "       'Malignant', 'Benign', 'Malignant', 'Benign', 'Malignant',\n",
       "       'Malignant', 'Benign', 'Benign'], dtype=object)"
      ]
     },
     "execution_count": 168,
     "metadata": {},
     "output_type": "execute_result"
    }
   ],
   "source": [
    "classifier_L = LogisticRegression(random_state=0)\n",
    "classifier_L.fit(X_train,Y_train)\n",
    "Y_pred = classifier_L.predict(X_test)\n",
    "Y_pred[0:29]"
   ]
  },
  {
   "cell_type": "code",
   "execution_count": 169,
   "id": "96b64353",
   "metadata": {
    "ExecuteTime": {
     "end_time": "2021-11-16T04:21:21.025145Z",
     "start_time": "2021-11-16T04:21:21.021471Z"
    }
   },
   "outputs": [
    {
     "data": {
      "text/plain": [
       "array([[40,  2],\n",
       "       [ 1, 71]])"
      ]
     },
     "execution_count": 169,
     "metadata": {},
     "output_type": "execute_result"
    }
   ],
   "source": [
    "cnf_matrix = confusion_matrix(Y_test,Y_pred)\n",
    "cnf_matrix"
   ]
  },
  {
   "cell_type": "code",
   "execution_count": 170,
   "id": "ec54f5cc",
   "metadata": {
    "ExecuteTime": {
     "end_time": "2021-11-16T04:21:21.029461Z",
     "start_time": "2021-11-16T04:21:21.026517Z"
    }
   },
   "outputs": [
    {
     "name": "stdout",
     "output_type": "stream",
     "text": [
      "Accuracy: 0.9736842105263158\n"
     ]
    }
   ],
   "source": [
    "Acc_score = metrics.accuracy_score(Y_test,Y_pred)\n",
    "print(\"Accuracy:\", Acc_score)"
   ]
  },
  {
   "cell_type": "code",
   "execution_count": 171,
   "id": "4c649a5e",
   "metadata": {
    "ExecuteTime": {
     "end_time": "2021-11-16T04:21:21.179445Z",
     "start_time": "2021-11-16T04:21:21.030836Z"
    },
    "scrolled": true
   },
   "outputs": [
    {
     "data": {
      "image/png": "[encoded data removed]",
      "text/plain": [
       "<Figure size 432x288 with 2 Axes>"
      ]
     },
     "metadata": {
      "needs_background": "light"
     },
     "output_type": "display_data"
    }
   ],
   "source": [
    "class_names = [0,1]\n",
    "fig, ax = plt.subplots()\n",
    "tick_marks = np.arange(len(class_names))\n",
    "plt.xticks(tick_marks,class_names)\n",
    "plt.yticks(tick_marks,class_names)\n",
    "\n",
    "import seaborn as sns\n",
    "sns.heatmap(pd.DataFrame(cnf_matrix), annot = True, cmap = \"YlGnBu\", fmt = 'g')\n",
    "ax.xaxis.set_label_position(\"top\")\n",
    "plt.tight_layout()\n",
    "plt.title('Confusion matrix',y = 1.1)\n",
    "plt.ylabel('Actual label')\n",
    "plt.xlabel('Predicted label')\n",
    "cancer_dataset['label'].replace('Benign', 0, inplace=True)\n",
    "cancer_dataset['label'].replace('Malignant', 1, inplace=True)"
   ]
  },
  {
   "cell_type": "code",
   "execution_count": null,
   "id": "49c47c97",
   "metadata": {},
   "outputs": [],
   "source": []
  },
  {
   "cell_type": "code",
   "execution_count": 172,
   "id": "5d1e2a10",
   "metadata": {
    "ExecuteTime": {
     "end_time": "2021-11-16T04:21:21.199187Z",
     "start_time": "2021-11-16T04:21:21.180621Z"
    }
   },
   "outputs": [
    {
     "data": {
      "text/html": [
       "<div>\n",
       "<style scoped>\n",
       "    .dataframe tbody tr th:only-of-type {\n",
       "        vertical-align: middle;\n",
       "    }\n",
       "\n",
       "    .dataframe tbody tr th {\n",
       "        vertical-align: top;\n",
       "    }\n",
       "\n",
       "    .dataframe thead th {\n",
       "        text-align: right;\n",
       "    }\n",
       "</style>\n",
       "<table border=\"1\" class=\"dataframe\">\n",
       "  <thead>\n",
       "    <tr style=\"text-align: right;\">\n",
       "      <th></th>\n",
       "      <th>mean radius</th>\n",
       "      <th>mean texture</th>\n",
       "      <th>mean perimeter</th>\n",
       "      <th>mean area</th>\n",
       "      <th>mean smoothness</th>\n",
       "      <th>mean compactness</th>\n",
       "      <th>mean concavity</th>\n",
       "      <th>mean concave points</th>\n",
       "      <th>mean symmetry</th>\n",
       "      <th>mean fractal dimension</th>\n",
       "      <th>...</th>\n",
       "      <th>worst texture</th>\n",
       "      <th>worst perimeter</th>\n",
       "      <th>worst area</th>\n",
       "      <th>worst smoothness</th>\n",
       "      <th>worst compactness</th>\n",
       "      <th>worst concavity</th>\n",
       "      <th>worst concave points</th>\n",
       "      <th>worst symmetry</th>\n",
       "      <th>worst fractal dimension</th>\n",
       "      <th>label</th>\n",
       "    </tr>\n",
       "  </thead>\n",
       "  <tbody>\n",
       "    <tr>\n",
       "      <th>0</th>\n",
       "      <td>17.99</td>\n",
       "      <td>10.38</td>\n",
       "      <td>122.80</td>\n",
       "      <td>1001.0</td>\n",
       "      <td>0.11840</td>\n",
       "      <td>0.27760</td>\n",
       "      <td>0.3001</td>\n",
       "      <td>0.14710</td>\n",
       "      <td>0.2419</td>\n",
       "      <td>0.07871</td>\n",
       "      <td>...</td>\n",
       "      <td>17.33</td>\n",
       "      <td>184.60</td>\n",
       "      <td>2019.0</td>\n",
       "      <td>0.1622</td>\n",
       "      <td>0.6656</td>\n",
       "      <td>0.7119</td>\n",
       "      <td>0.2654</td>\n",
       "      <td>0.4601</td>\n",
       "      <td>0.11890</td>\n",
       "      <td>0</td>\n",
       "    </tr>\n",
       "    <tr>\n",
       "      <th>1</th>\n",
       "      <td>20.57</td>\n",
       "      <td>17.77</td>\n",
       "      <td>132.90</td>\n",
       "      <td>1326.0</td>\n",
       "      <td>0.08474</td>\n",
       "      <td>0.07864</td>\n",
       "      <td>0.0869</td>\n",
       "      <td>0.07017</td>\n",
       "      <td>0.1812</td>\n",
       "      <td>0.05667</td>\n",
       "      <td>...</td>\n",
       "      <td>23.41</td>\n",
       "      <td>158.80</td>\n",
       "      <td>1956.0</td>\n",
       "      <td>0.1238</td>\n",
       "      <td>0.1866</td>\n",
       "      <td>0.2416</td>\n",
       "      <td>0.1860</td>\n",
       "      <td>0.2750</td>\n",
       "      <td>0.08902</td>\n",
       "      <td>0</td>\n",
       "    </tr>\n",
       "    <tr>\n",
       "      <th>2</th>\n",
       "      <td>19.69</td>\n",
       "      <td>21.25</td>\n",
       "      <td>130.00</td>\n",
       "      <td>1203.0</td>\n",
       "      <td>0.10960</td>\n",
       "      <td>0.15990</td>\n",
       "      <td>0.1974</td>\n",
       "      <td>0.12790</td>\n",
       "      <td>0.2069</td>\n",
       "      <td>0.05999</td>\n",
       "      <td>...</td>\n",
       "      <td>25.53</td>\n",
       "      <td>152.50</td>\n",
       "      <td>1709.0</td>\n",
       "      <td>0.1444</td>\n",
       "      <td>0.4245</td>\n",
       "      <td>0.4504</td>\n",
       "      <td>0.2430</td>\n",
       "      <td>0.3613</td>\n",
       "      <td>0.08758</td>\n",
       "      <td>0</td>\n",
       "    </tr>\n",
       "    <tr>\n",
       "      <th>3</th>\n",
       "      <td>11.42</td>\n",
       "      <td>20.38</td>\n",
       "      <td>77.58</td>\n",
       "      <td>386.1</td>\n",
       "      <td>0.14250</td>\n",
       "      <td>0.28390</td>\n",
       "      <td>0.2414</td>\n",
       "      <td>0.10520</td>\n",
       "      <td>0.2597</td>\n",
       "      <td>0.09744</td>\n",
       "      <td>...</td>\n",
       "      <td>26.50</td>\n",
       "      <td>98.87</td>\n",
       "      <td>567.7</td>\n",
       "      <td>0.2098</td>\n",
       "      <td>0.8663</td>\n",
       "      <td>0.6869</td>\n",
       "      <td>0.2575</td>\n",
       "      <td>0.6638</td>\n",
       "      <td>0.17300</td>\n",
       "      <td>0</td>\n",
       "    </tr>\n",
       "    <tr>\n",
       "      <th>4</th>\n",
       "      <td>20.29</td>\n",
       "      <td>14.34</td>\n",
       "      <td>135.10</td>\n",
       "      <td>1297.0</td>\n",
       "      <td>0.10030</td>\n",
       "      <td>0.13280</td>\n",
       "      <td>0.1980</td>\n",
       "      <td>0.10430</td>\n",
       "      <td>0.1809</td>\n",
       "      <td>0.05883</td>\n",
       "      <td>...</td>\n",
       "      <td>16.67</td>\n",
       "      <td>152.20</td>\n",
       "      <td>1575.0</td>\n",
       "      <td>0.1374</td>\n",
       "      <td>0.2050</td>\n",
       "      <td>0.4000</td>\n",
       "      <td>0.1625</td>\n",
       "      <td>0.2364</td>\n",
       "      <td>0.07678</td>\n",
       "      <td>0</td>\n",
       "    </tr>\n",
       "  </tbody>\n",
       "</table>\n",
       "<p>5 rows × 31 columns</p>\n",
       "</div>"
      ],
      "text/plain": [
       "   mean radius  mean texture  mean perimeter  mean area  mean smoothness  \\\n",
       "0        17.99         10.38          122.80     1001.0          0.11840   \n",
       "1        20.57         17.77          132.90     1326.0          0.08474   \n",
       "2        19.69         21.25          130.00     1203.0          0.10960   \n",
       "3        11.42         20.38           77.58      386.1          0.14250   \n",
       "4        20.29         14.34          135.10     1297.0          0.10030   \n",
       "\n",
       "   mean compactness  mean concavity  mean concave points  mean symmetry  \\\n",
       "0           0.27760          0.3001              0.14710         0.2419   \n",
       "1           0.07864          0.0869              0.07017         0.1812   \n",
       "2           0.15990          0.1974              0.12790         0.2069   \n",
       "3           0.28390          0.2414              0.10520         0.2597   \n",
       "4           0.13280          0.1980              0.10430         0.1809   \n",
       "\n",
       "   mean fractal dimension  ...  worst texture  worst perimeter  worst area  \\\n",
       "0                 0.07871  ...          17.33           184.60      2019.0   \n",
       "1                 0.05667  ...          23.41           158.80      1956.0   \n",
       "2                 0.05999  ...          25.53           152.50      1709.0   \n",
       "3                 0.09744  ...          26.50            98.87       567.7   \n",
       "4                 0.05883  ...          16.67           152.20      1575.0   \n",
       "\n",
       "   worst smoothness  worst compactness  worst concavity  worst concave points  \\\n",
       "0            0.1622             0.6656           0.7119                0.2654   \n",
       "1            0.1238             0.1866           0.2416                0.1860   \n",
       "2            0.1444             0.4245           0.4504                0.2430   \n",
       "3            0.2098             0.8663           0.6869                0.2575   \n",
       "4            0.1374             0.2050           0.4000                0.1625   \n",
       "\n",
       "   worst symmetry  worst fractal dimension  label  \n",
       "0          0.4601                  0.11890      0  \n",
       "1          0.2750                  0.08902      0  \n",
       "2          0.3613                  0.08758      0  \n",
       "3          0.6638                  0.17300      0  \n",
       "4          0.2364                  0.07678      0  \n",
       "\n",
       "[5 rows x 31 columns]"
      ]
     },
     "execution_count": 172,
     "metadata": {},
     "output_type": "execute_result"
    }
   ],
   "source": [
    "cancer_dataset['label'].replace('Benign', 0, inplace=True) \n",
    "cancer_dataset['label'].replace('Malignant', 1, inplace=True)\n",
    "X = cancer_dataset.iloc[:,0:30].values\n",
    "Y = cancer_dataset.iloc[:,30].values\n",
    "cancer_dataset.head()"
   ]
  },
  {
   "cell_type": "code",
   "execution_count": 173,
   "id": "314b16b3",
   "metadata": {
    "ExecuteTime": {
     "end_time": "2021-11-16T04:21:21.205794Z",
     "start_time": "2021-11-16T04:21:21.200559Z"
    }
   },
   "outputs": [
    {
     "data": {
      "text/plain": [
       "array([[ 1.09706398e+00, -2.07333501e+00,  1.26993369e+00,\n",
       "         9.84374905e-01,  1.56846633e+00,  3.28351467e+00,\n",
       "         2.65287398e+00,  2.53247522e+00,  2.21751501e+00,\n",
       "         2.25574689e+00,  2.48973393e+00, -5.65265059e-01,\n",
       "         2.83303087e+00,  2.48757756e+00, -2.14001647e-01,\n",
       "         1.31686157e+00,  7.24026158e-01,  6.60819941e-01,\n",
       "         1.14875667e+00,  9.07083081e-01,  1.88668963e+00,\n",
       "        -1.35929347e+00,  2.30360062e+00,  2.00123749e+00,\n",
       "         1.30768627e+00,  2.61666502e+00,  2.10952635e+00,\n",
       "         2.29607613e+00,  2.75062224e+00,  1.93701461e+00],\n",
       "       [ 1.82982061e+00, -3.53632408e-01,  1.68595471e+00,\n",
       "         1.90870825e+00, -8.26962447e-01, -4.87071673e-01,\n",
       "        -2.38458552e-02,  5.48144156e-01,  1.39236330e-03,\n",
       "        -8.68652457e-01,  4.99254601e-01, -8.76243603e-01,\n",
       "         2.63326966e-01,  7.42401948e-01, -6.05350847e-01,\n",
       "        -6.92926270e-01, -4.40780058e-01,  2.60162067e-01,\n",
       "        -8.05450380e-01, -9.94437403e-02,  1.80592744e+00,\n",
       "        -3.69203222e-01,  1.53512599e+00,  1.89048899e+00,\n",
       "        -3.75611957e-01, -4.30444219e-01, -1.46748968e-01,\n",
       "         1.08708430e+00, -2.43889668e-01,  2.81189987e-01]])"
      ]
     },
     "execution_count": 173,
     "metadata": {},
     "output_type": "execute_result"
    }
   ],
   "source": [
    "scalar_X = StandardScaler()\n",
    "X = scalar_X.fit_transform(X)\n",
    "X[0:2]"
   ]
  },
  {
   "cell_type": "code",
   "execution_count": 174,
   "id": "bf42f94a",
   "metadata": {
    "ExecuteTime": {
     "end_time": "2021-11-16T04:21:21.662657Z",
     "start_time": "2021-11-16T04:21:21.207171Z"
    }
   },
   "outputs": [
    {
     "name": "stdout",
     "output_type": "stream",
     "text": [
      "Accuracy: 0.8771929824561403\n",
      "Precision: 0.8717948717948718\n",
      "Recall: 0.9444444444444444\n",
      "Accuracy: 0.9473684210526315\n",
      "Precision: 0.9342105263157895\n",
      "Recall: 0.9861111111111112\n",
      "Accuracy: 0.9473684210526315\n",
      "Precision: 0.9342105263157895\n",
      "Recall: 0.9861111111111112\n",
      "Accuracy: 0.9649122807017544\n",
      "Precision: 0.9473684210526315\n",
      "Recall: 1.0\n",
      "Accuracy: 0.9736842105263158\n",
      "Precision: 0.96\n",
      "Recall: 1.0\n",
      "Accuracy: 0.9824561403508771\n",
      "Precision: 0.972972972972973\n",
      "Recall: 1.0\n",
      "Accuracy: 0.9736842105263158\n",
      "Precision: 0.96\n",
      "Recall: 1.0\n",
      "Accuracy: 0.9736842105263158\n",
      "Precision: 0.96\n",
      "Recall: 1.0\n",
      "Accuracy: 0.9824561403508771\n",
      "Precision: 0.972972972972973\n",
      "Recall: 1.0\n",
      "Accuracy: 0.9824561403508771\n",
      "Precision: 0.972972972972973\n",
      "Recall: 1.0\n",
      "Accuracy: 0.9824561403508771\n",
      "Precision: 0.972972972972973\n",
      "Recall: 1.0\n",
      "Accuracy: 0.9736842105263158\n",
      "Precision: 0.9726027397260274\n",
      "Recall: 0.9861111111111112\n",
      "Accuracy: 0.9736842105263158\n",
      "Precision: 0.9726027397260274\n",
      "Recall: 0.9861111111111112\n",
      "Accuracy: 0.9824561403508771\n",
      "Precision: 0.972972972972973\n",
      "Recall: 1.0\n",
      "Accuracy: 0.9824561403508771\n",
      "Precision: 0.972972972972973\n",
      "Recall: 1.0\n",
      "Accuracy: 0.9824561403508771\n",
      "Precision: 0.972972972972973\n",
      "Recall: 1.0\n",
      "Accuracy: 0.9824561403508771\n",
      "Precision: 0.972972972972973\n",
      "Recall: 1.0\n",
      "Accuracy: 0.9824561403508771\n",
      "Precision: 0.972972972972973\n",
      "Recall: 1.0\n",
      "Accuracy: 0.9824561403508771\n",
      "Precision: 0.972972972972973\n",
      "Recall: 1.0\n",
      "Accuracy: 0.9824561403508771\n",
      "Precision: 0.972972972972973\n",
      "Recall: 1.0\n",
      "Accuracy: 0.9824561403508771\n",
      "Precision: 0.972972972972973\n",
      "Recall: 1.0\n",
      "Accuracy: 0.9736842105263158\n",
      "Precision: 0.9726027397260274\n",
      "Recall: 0.9861111111111112\n",
      "Accuracy: 0.9736842105263158\n",
      "Precision: 0.9726027397260274\n",
      "Recall: 0.9861111111111112\n",
      "Accuracy: 0.9736842105263158\n",
      "Precision: 0.9726027397260274\n",
      "Recall: 0.9861111111111112\n",
      "Accuracy: 0.9736842105263158\n",
      "Precision: 0.9726027397260274\n",
      "Recall: 0.9861111111111112\n",
      "Accuracy: 0.9824561403508771\n",
      "Precision: 0.972972972972973\n",
      "Recall: 1.0\n",
      "Accuracy: 0.9736842105263158\n",
      "Precision: 0.9726027397260274\n",
      "Recall: 0.9861111111111112\n",
      "Accuracy: 0.9736842105263158\n",
      "Precision: 0.9726027397260274\n",
      "Recall: 0.9861111111111112\n",
      "Accuracy: 0.9824561403508771\n",
      "Precision: 0.972972972972973\n",
      "Recall: 1.0\n",
      "[[2, 0.8859649122807017, 0.8554216867469879, 0.9861111111111112], [3, 0.9298245614035088, 0.9210526315789473, 0.9722222222222222], [4, 0.9298245614035088, 0.9210526315789473, 0.9722222222222222], [5, 0.9298245614035088, 0.9102564102564102, 0.9861111111111112], [6, 0.9298245614035088, 0.9210526315789473, 0.9722222222222222], [7, 0.9298245614035088, 0.9210526315789473, 0.9722222222222222], [8, 0.9473684210526315, 0.9342105263157895, 0.9861111111111112], [9, 0.9385964912280702, 0.922077922077922, 0.9861111111111112], [10, 0.9385964912280702, 0.922077922077922, 0.9861111111111112], [11, 0.9385964912280702, 0.922077922077922, 0.9861111111111112], [12, 0.9385964912280702, 0.922077922077922, 0.9861111111111112], [13, 0.9385964912280702, 0.922077922077922, 0.9861111111111112], [14, 0.9473684210526315, 0.9342105263157895, 0.9861111111111112], [15, 0.9385964912280702, 0.922077922077922, 0.9861111111111112], [16, 0.9473684210526315, 0.9342105263157895, 0.9861111111111112], [17, 0.9385964912280702, 0.922077922077922, 0.9861111111111112], [18, 0.9473684210526315, 0.9342105263157895, 0.9861111111111112], [19, 0.9385964912280702, 0.922077922077922, 0.9861111111111112], [20, 0.9473684210526315, 0.9342105263157895, 0.9861111111111112], [21, 0.9473684210526315, 0.9342105263157895, 0.9861111111111112], [22, 0.9473684210526315, 0.9342105263157895, 0.9861111111111112], [23, 0.9385964912280702, 0.922077922077922, 0.9861111111111112], [24, 0.9385964912280702, 0.922077922077922, 0.9861111111111112], [25, 0.9385964912280702, 0.922077922077922, 0.9861111111111112], [26, 0.9385964912280702, 0.922077922077922, 0.9861111111111112], [27, 0.9385964912280702, 0.922077922077922, 0.9861111111111112], [28, 0.9385964912280702, 0.922077922077922, 0.9861111111111112], [29, 0.9385964912280702, 0.922077922077922, 0.9861111111111112], [30, 0.9473684210526315, 0.9342105263157895, 0.9861111111111112], [2, 0.8859649122807017, 0.8554216867469879, 0.9861111111111112], [3, 0.9298245614035088, 0.9210526315789473, 0.9722222222222222], [4, 0.9298245614035088, 0.9210526315789473, 0.9722222222222222], [5, 0.9298245614035088, 0.9102564102564102, 0.9861111111111112], [6, 0.9298245614035088, 0.9210526315789473, 0.9722222222222222], [7, 0.9298245614035088, 0.9210526315789473, 0.9722222222222222], [8, 0.9473684210526315, 0.9342105263157895, 0.9861111111111112], [9, 0.9385964912280702, 0.922077922077922, 0.9861111111111112], [10, 0.9385964912280702, 0.922077922077922, 0.9861111111111112], [11, 0.9385964912280702, 0.922077922077922, 0.9861111111111112], [12, 0.9385964912280702, 0.922077922077922, 0.9861111111111112], [13, 0.9385964912280702, 0.922077922077922, 0.9861111111111112], [14, 0.9473684210526315, 0.9342105263157895, 0.9861111111111112], [15, 0.9385964912280702, 0.922077922077922, 0.9861111111111112], [16, 0.9473684210526315, 0.9342105263157895, 0.9861111111111112], [17, 0.9385964912280702, 0.922077922077922, 0.9861111111111112], [18, 0.9473684210526315, 0.9342105263157895, 0.9861111111111112], [19, 0.9385964912280702, 0.922077922077922, 0.9861111111111112], [20, 0.9473684210526315, 0.9342105263157895, 0.9861111111111112], [21, 0.9473684210526315, 0.9342105263157895, 0.9861111111111112], [22, 0.9473684210526315, 0.9342105263157895, 0.9861111111111112], [23, 0.9385964912280702, 0.922077922077922, 0.9861111111111112], [24, 0.9385964912280702, 0.922077922077922, 0.9861111111111112], [25, 0.9385964912280702, 0.922077922077922, 0.9861111111111112], [26, 0.9385964912280702, 0.922077922077922, 0.9861111111111112], [27, 0.9385964912280702, 0.922077922077922, 0.9861111111111112], [28, 0.9385964912280702, 0.922077922077922, 0.9861111111111112], [29, 0.9385964912280702, 0.922077922077922, 0.9861111111111112], [30, 0.9473684210526315, 0.9342105263157895, 0.9861111111111112], [2, 0.8859649122807017, 0.8554216867469879, 0.9861111111111112], [3, 0.9298245614035088, 0.9210526315789473, 0.9722222222222222], [4, 0.9298245614035088, 0.9210526315789473, 0.9722222222222222], [5, 0.9298245614035088, 0.9102564102564102, 0.9861111111111112], [6, 0.9298245614035088, 0.9210526315789473, 0.9722222222222222], [7, 0.9298245614035088, 0.9210526315789473, 0.9722222222222222], [8, 0.9473684210526315, 0.9342105263157895, 0.9861111111111112], [9, 0.9385964912280702, 0.922077922077922, 0.9861111111111112], [10, 0.9385964912280702, 0.922077922077922, 0.9861111111111112], [11, 0.9385964912280702, 0.922077922077922, 0.9861111111111112], [12, 0.9385964912280702, 0.922077922077922, 0.9861111111111112], [13, 0.9385964912280702, 0.922077922077922, 0.9861111111111112], [14, 0.9473684210526315, 0.9342105263157895, 0.9861111111111112], [15, 0.9385964912280702, 0.922077922077922, 0.9861111111111112], [16, 0.9473684210526315, 0.9342105263157895, 0.9861111111111112], [17, 0.9385964912280702, 0.922077922077922, 0.9861111111111112], [18, 0.9473684210526315, 0.9342105263157895, 0.9861111111111112], [19, 0.9385964912280702, 0.922077922077922, 0.9861111111111112], [20, 0.9473684210526315, 0.9342105263157895, 0.9861111111111112], [21, 0.9473684210526315, 0.9342105263157895, 0.9861111111111112], [22, 0.9473684210526315, 0.9342105263157895, 0.9861111111111112], [23, 0.9385964912280702, 0.922077922077922, 0.9861111111111112], [24, 0.9385964912280702, 0.922077922077922, 0.9861111111111112], [25, 0.9385964912280702, 0.922077922077922, 0.9861111111111112], [26, 0.9385964912280702, 0.922077922077922, 0.9861111111111112], [27, 0.9385964912280702, 0.922077922077922, 0.9861111111111112], [28, 0.9385964912280702, 0.922077922077922, 0.9861111111111112], [29, 0.9385964912280702, 0.922077922077922, 0.9861111111111112], [30, 0.9473684210526315, 0.9342105263157895, 0.9861111111111112], [2, 0.8859649122807017, 0.8554216867469879, 0.9861111111111112], [3, 0.9298245614035088, 0.9210526315789473, 0.9722222222222222], [4, 0.9298245614035088, 0.9210526315789473, 0.9722222222222222], [5, 0.9298245614035088, 0.9102564102564102, 0.9861111111111112], [6, 0.9298245614035088, 0.9210526315789473, 0.9722222222222222], [7, 0.9298245614035088, 0.9210526315789473, 0.9722222222222222], [8, 0.9473684210526315, 0.9342105263157895, 0.9861111111111112], [9, 0.9385964912280702, 0.922077922077922, 0.9861111111111112], [10, 0.9385964912280702, 0.922077922077922, 0.9861111111111112], [11, 0.9385964912280702, 0.922077922077922, 0.9861111111111112], [12, 0.9385964912280702, 0.922077922077922, 0.9861111111111112], [13, 0.9385964912280702, 0.922077922077922, 0.9861111111111112], [14, 0.9473684210526315, 0.9342105263157895, 0.9861111111111112], [15, 0.9385964912280702, 0.922077922077922, 0.9861111111111112], [16, 0.9473684210526315, 0.9342105263157895, 0.9861111111111112], [17, 0.9385964912280702, 0.922077922077922, 0.9861111111111112], [18, 0.9473684210526315, 0.9342105263157895, 0.9861111111111112], [19, 0.9385964912280702, 0.922077922077922, 0.9861111111111112], [20, 0.9473684210526315, 0.9342105263157895, 0.9861111111111112], [21, 0.9473684210526315, 0.9342105263157895, 0.9861111111111112], [22, 0.9473684210526315, 0.9342105263157895, 0.9861111111111112], [23, 0.9385964912280702, 0.922077922077922, 0.9861111111111112], [24, 0.9385964912280702, 0.922077922077922, 0.9861111111111112], [25, 0.9385964912280702, 0.922077922077922, 0.9861111111111112], [26, 0.9385964912280702, 0.922077922077922, 0.9861111111111112], [27, 0.9385964912280702, 0.922077922077922, 0.9861111111111112], [28, 0.9385964912280702, 0.922077922077922, 0.9861111111111112], [29, 0.9385964912280702, 0.922077922077922, 0.9861111111111112], [30, 0.9473684210526315, 0.9342105263157895, 0.9861111111111112], [2, 0.8771929824561403, 0.8717948717948718, 0.9444444444444444], [3, 0.9473684210526315, 0.9342105263157895, 0.9861111111111112], [4, 0.9473684210526315, 0.9342105263157895, 0.9861111111111112], [5, 0.9649122807017544, 0.9473684210526315, 1.0], [6, 0.9736842105263158, 0.96, 1.0], [7, 0.9824561403508771, 0.972972972972973, 1.0], [8, 0.9736842105263158, 0.96, 1.0], [9, 0.9736842105263158, 0.96, 1.0], [10, 0.9824561403508771, 0.972972972972973, 1.0], [11, 0.9824561403508771, 0.972972972972973, 1.0], [12, 0.9824561403508771, 0.972972972972973, 1.0], [13, 0.9736842105263158, 0.9726027397260274, 0.9861111111111112], [14, 0.9736842105263158, 0.9726027397260274, 0.9861111111111112], [15, 0.9824561403508771, 0.972972972972973, 1.0], [16, 0.9824561403508771, 0.972972972972973, 1.0], [17, 0.9824561403508771, 0.972972972972973, 1.0], [18, 0.9824561403508771, 0.972972972972973, 1.0], [19, 0.9824561403508771, 0.972972972972973, 1.0], [20, 0.9824561403508771, 0.972972972972973, 1.0], [21, 0.9824561403508771, 0.972972972972973, 1.0], [22, 0.9824561403508771, 0.972972972972973, 1.0], [23, 0.9736842105263158, 0.9726027397260274, 0.9861111111111112], [24, 0.9736842105263158, 0.9726027397260274, 0.9861111111111112], [25, 0.9736842105263158, 0.9726027397260274, 0.9861111111111112], [26, 0.9736842105263158, 0.9726027397260274, 0.9861111111111112], [27, 0.9824561403508771, 0.972972972972973, 1.0], [28, 0.9736842105263158, 0.9726027397260274, 0.9861111111111112], [29, 0.9736842105263158, 0.9726027397260274, 0.9861111111111112], [30, 0.9824561403508771, 0.972972972972973, 1.0], [2, 0.8771929824561403, 0.8717948717948718, 0.9444444444444444], [3, 0.9473684210526315, 0.9342105263157895, 0.9861111111111112], [4, 0.9473684210526315, 0.9342105263157895, 0.9861111111111112], [5, 0.9649122807017544, 0.9473684210526315, 1.0], [6, 0.9736842105263158, 0.96, 1.0], [7, 0.9824561403508771, 0.972972972972973, 1.0], [8, 0.9736842105263158, 0.96, 1.0], [9, 0.9736842105263158, 0.96, 1.0], [10, 0.9824561403508771, 0.972972972972973, 1.0], [11, 0.9824561403508771, 0.972972972972973, 1.0], [12, 0.9824561403508771, 0.972972972972973, 1.0], [13, 0.9736842105263158, 0.9726027397260274, 0.9861111111111112], [14, 0.9736842105263158, 0.9726027397260274, 0.9861111111111112], [15, 0.9824561403508771, 0.972972972972973, 1.0], [16, 0.9824561403508771, 0.972972972972973, 1.0], [17, 0.9824561403508771, 0.972972972972973, 1.0], [18, 0.9824561403508771, 0.972972972972973, 1.0], [19, 0.9824561403508771, 0.972972972972973, 1.0], [20, 0.9824561403508771, 0.972972972972973, 1.0], [21, 0.9824561403508771, 0.972972972972973, 1.0], [22, 0.9824561403508771, 0.972972972972973, 1.0], [23, 0.9736842105263158, 0.9726027397260274, 0.9861111111111112], [24, 0.9736842105263158, 0.9726027397260274, 0.9861111111111112], [25, 0.9736842105263158, 0.9726027397260274, 0.9861111111111112], [26, 0.9736842105263158, 0.9726027397260274, 0.9861111111111112], [27, 0.9824561403508771, 0.972972972972973, 1.0], [28, 0.9736842105263158, 0.9726027397260274, 0.9861111111111112], [29, 0.9736842105263158, 0.9726027397260274, 0.9861111111111112], [30, 0.9824561403508771, 0.972972972972973, 1.0]]\n"
     ]
    }
   ],
   "source": [
    "from sklearn.preprocessing import StandardScaler\n",
    "for i in range(29):\n",
    "    n_components = i + 2\n",
    "    pca = PCA(n_components) \n",
    "    principalComponents_train = pca.fit_transform(X)\n",
    "    principalDf = pd.DataFrame(data = principalComponents_train, columns = range(n_components))\n",
    "    finalDf = pd.concat([principalDf, cancer_dataset[['label']]], axis = 1)\n",
    "    Y_principal = finalDf.iloc[:,[n_components]].values\n",
    "    X_principal = finalDf.iloc[:,0:(n_components - 1)] \n",
    "    np.random.seed(0)\n",
    "    X_train, X_test, Y_train, Y_test = train_test_split(X_principal,Y_principal,train_size =0.8,test_size = 0.2,random_state = 1)\n",
    "    classifier_L = LogisticRegression(random_state = 0)\n",
    "    classifier_L.fit(X_train, np.ravel(Y_train))\n",
    "    Y_pred1 = classifier_L.predict(X_test)\n",
    "    Y_pred1[0:9]\n",
    "    cnf_matrix = confusion_matrix(Y_test,Y_pred1)\n",
    "    cnf_matrix\n",
    "    from sklearn import metrics\n",
    "    Acc_score1 = metrics.accuracy_score(Y_test,Y_pred1)\n",
    "    print(\"Accuracy:\", Acc_score1)\n",
    "    Prec_score1 = metrics.precision_score(Y_test,Y_pred1)\n",
    "    print(\"Precision:\", Prec_score1)\n",
    "    Rec_score1 = metrics.recall_score(Y_test,Y_pred1)\n",
    "    print(\"Recall:\", Rec_score1)\n",
    "    pcaDF.append([n_components,Acc_score1,Prec_score1,Rec_score1])\n",
    "print(pcaDF)"
   ]
  },
  {
   "cell_type": "code",
   "execution_count": null,
   "id": "4c62a727",
   "metadata": {},
   "outputs": [],
   "source": []
  },
  {
   "cell_type": "code",
   "execution_count": 175,
   "id": "8365ab42",
   "metadata": {
    "ExecuteTime": {
     "end_time": "2021-11-16T04:21:21.791747Z",
     "start_time": "2021-11-16T04:21:21.663940Z"
    }
   },
   "outputs": [
    {
     "data": {
      "image/png": "[encoded data removed]",
      "text/plain": [
       "<Figure size 432x288 with 1 Axes>"
      ]
     },
     "metadata": {
      "needs_background": "light"
     },
     "output_type": "display_data"
    }
   ],
   "source": [
    "N_to_K = Parse(pcaDF,0)\n",
    "Acc_Vals = Parse(pcaDF,1)\n",
    "Prec_Vals = Parse(pcaDF,2)\n",
    "Recall_Vals = Parse(pcaDF,3)\n",
    "\n",
    "plt.plot(N_to_K, Acc_Vals, 'r', label = 'Accuracy',linewidth=3)\n",
    "plt.plot(N_to_K, Prec_Vals, 'g', label = 'Precision', linewidth=3)\n",
    "plt.plot(N_to_K, Recall_Vals,  'b', label = 'Recall', linewidth=3)\n",
    "\n",
    "plt.title(\"Results over different K values for PCA\")\n",
    "plt.xlabel(\"N Value\")\n",
    "plt.ylabel(\"Results from Accuracy, Precision, and Recall\")\n",
    "plt.legend(loc = 'lower right')\n",
    "plt.show()"
   ]
  },
  {
   "cell_type": "code",
   "execution_count": 176,
   "id": "d71581f2",
   "metadata": {
    "ExecuteTime": {
     "end_time": "2021-11-16T04:21:21.917566Z",
     "start_time": "2021-11-16T04:21:21.792986Z"
    }
   },
   "outputs": [
    {
     "data": {
      "image/png": "[encoded data removed]",
      "text/plain": [
       "<Figure size 432x288 with 1 Axes>"
      ]
     },
     "metadata": {
      "needs_background": "light"
     },
     "output_type": "display_data"
    }
   ],
   "source": [
    "def Parse(Value, i):\n",
    "    return [item[i] for item in Value]\n",
    "N_to_K = Parse(pcaDF,0)\n",
    "Acc_Vals = Parse(pcaDF,1)\n",
    "Prec_Vals = Parse(pcaDF,2)\n",
    "Recall_Vals = Parse(pcaDF,3)\n",
    "plt.plot(N_to_K, Acc_Vals, 'r', label = 'Accuracy',linewidth=3)\n",
    "plt.plot(N_to_K, Prec_Vals, 'g', label = 'Precision', linewidth=3)\n",
    "plt.plot(N_to_K, Recall_Vals,  'b', label = 'Recall', linewidth=3)\n",
    "\n",
    "plt.title(\"Results over different K values for PCA\")\n",
    "plt.xlabel(\"N Value\")\n",
    "plt.ylabel(\"Results from Accuracy, Precision, and Recall\")\n",
    "plt.legend(loc = 'lower right')\n",
    "plt.show()"
   ]
  },
  {
   "cell_type": "code",
   "execution_count": 177,
   "id": "a66aae3b",
   "metadata": {
    "ExecuteTime": {
     "end_time": "2021-11-16T04:21:21.921849Z",
     "start_time": "2021-11-16T04:21:21.918838Z"
    }
   },
   "outputs": [],
   "source": [
    "cancer_dataset['label'].replace('Benign', 0, inplace=True) \n",
    "cancer_dataset['label'].replace('Malignant', 1, inplace=True)"
   ]
  },
  {
   "cell_type": "code",
   "execution_count": 178,
   "id": "1536c27f",
   "metadata": {
    "ExecuteTime": {
     "end_time": "2021-11-16T04:21:21.928844Z",
     "start_time": "2021-11-16T04:21:21.923092Z"
    }
   },
   "outputs": [
    {
     "data": {
      "text/plain": [
       "array([[ 1.09706398e+00, -2.07333501e+00,  1.26993369e+00,\n",
       "         9.84374905e-01,  1.56846633e+00,  3.28351467e+00,\n",
       "         2.65287398e+00,  2.53247522e+00,  2.21751501e+00,\n",
       "         2.25574689e+00,  2.48973393e+00, -5.65265059e-01,\n",
       "         2.83303087e+00,  2.48757756e+00, -2.14001647e-01,\n",
       "         1.31686157e+00,  7.24026158e-01,  6.60819941e-01,\n",
       "         1.14875667e+00,  9.07083081e-01,  1.88668963e+00,\n",
       "        -1.35929347e+00,  2.30360062e+00,  2.00123749e+00,\n",
       "         1.30768627e+00,  2.61666502e+00,  2.10952635e+00,\n",
       "         2.29607613e+00,  2.75062224e+00,  1.93701461e+00],\n",
       "       [ 1.82982061e+00, -3.53632408e-01,  1.68595471e+00,\n",
       "         1.90870825e+00, -8.26962447e-01, -4.87071673e-01,\n",
       "        -2.38458552e-02,  5.48144156e-01,  1.39236330e-03,\n",
       "        -8.68652457e-01,  4.99254601e-01, -8.76243603e-01,\n",
       "         2.63326966e-01,  7.42401948e-01, -6.05350847e-01,\n",
       "        -6.92926270e-01, -4.40780058e-01,  2.60162067e-01,\n",
       "        -8.05450380e-01, -9.94437403e-02,  1.80592744e+00,\n",
       "        -3.69203222e-01,  1.53512599e+00,  1.89048899e+00,\n",
       "        -3.75611957e-01, -4.30444219e-01, -1.46748968e-01,\n",
       "         1.08708430e+00, -2.43889668e-01,  2.81189987e-01]])"
      ]
     },
     "execution_count": 178,
     "metadata": {},
     "output_type": "execute_result"
    }
   ],
   "source": [
    "X = cancer_dataset.iloc[:,0:30].values\n",
    "Y = cancer_dataset.iloc[:,30].values\n",
    "Y[0:10]\n",
    "scalar_X = StandardScaler()\n",
    "X = scalar_X.fit_transform(X)\n",
    "X[0:2]"
   ]
  },
  {
   "cell_type": "code",
   "execution_count": 179,
   "id": "eda1260a",
   "metadata": {
    "ExecuteTime": {
     "end_time": "2021-11-16T04:21:21.936337Z",
     "start_time": "2021-11-16T04:21:21.930063Z"
    }
   },
   "outputs": [],
   "source": [
    "lda = LinearDiscriminantAnalysis(n_components = 1)\n",
    "lda_train = lda.fit_transform(X,Y)"
   ]
  },
  {
   "cell_type": "code",
   "execution_count": 180,
   "id": "5df35355",
   "metadata": {
    "ExecuteTime": {
     "end_time": "2021-11-16T04:21:21.945476Z",
     "start_time": "2021-11-16T04:21:21.938943Z"
    }
   },
   "outputs": [
    {
     "data": {
      "text/plain": [
       "array([1, 0, 1, 0, 0, 0, 0, 1, 1, 1, 1, 0, 0, 1, 1, 1, 1, 1, 1, 0, 1, 1,\n",
       "       0, 1, 0, 1, 1, 0, 0, 0, 0, 1, 0, 0, 1, 1, 0, 1, 1, 1, 1, 1, 1, 1,\n",
       "       1, 0, 1, 1, 1, 0, 0, 0, 1, 1, 1, 1, 1, 0, 1, 1, 1, 0, 1, 1, 1, 1,\n",
       "       1, 0, 1, 1, 1, 1, 1, 0, 1, 0, 1, 1, 1, 0, 1, 0, 1, 0, 1, 1, 0, 1,\n",
       "       0, 1, 1, 0, 1, 1, 0, 0, 1, 1, 1, 1, 1, 1, 1, 1, 1, 1, 1, 1, 0, 0,\n",
       "       0, 1, 1, 1])"
      ]
     },
     "execution_count": 180,
     "metadata": {},
     "output_type": "execute_result"
    }
   ],
   "source": [
    "from sklearn.model_selection import train_test_split\n",
    "from sklearn.naive_bayes import GaussianNB\n",
    "np.random.seed(0)\n",
    "X_train, X_test, Y_train, Y_test = train_test_split(lda_train,Y,train_size =0.8, test_size = 0.2, random_state = 1)\n",
    "classifier_G = GaussianNB()\n",
    "classifier_G.fit(X_train,Y_train)\n",
    "Y_pred = classifier_G.predict(X_test)\n",
    "Y_pred"
   ]
  },
  {
   "cell_type": "code",
   "execution_count": 181,
   "id": "ba4dc928",
   "metadata": {
    "ExecuteTime": {
     "end_time": "2021-11-16T04:21:22.109115Z",
     "start_time": "2021-11-16T04:21:21.946999Z"
    }
   },
   "outputs": [
    {
     "data": {
      "text/plain": [
       "Text(0.5, 257.44, 'Predicted label')"
      ]
     },
     "execution_count": 181,
     "metadata": {},
     "output_type": "execute_result"
    },
    {
     "data": {
      "image/png": "[encoded data removed]",
      "text/plain": [
       "<Figure size 432x288 with 2 Axes>"
      ]
     },
     "metadata": {
      "needs_background": "light"
     },
     "output_type": "display_data"
    }
   ],
   "source": [
    "class_names = [0,1]\n",
    "fig, ax = plt.subplots()\n",
    "tick_marks = np.arange(len(class_names))\n",
    "plt.xticks(tick_marks,class_names)\n",
    "plt.yticks(tick_marks,class_names)\n",
    "sns.heatmap(pd.DataFrame(cnf_matrix), annot = True, cmap = \"YlGnBu\", fmt = 'g')\n",
    "ax.xaxis.set_label_position(\"top\")\n",
    "plt.tight_layout()\n",
    "plt.title('Confusion matrix',y = 1.1)\n",
    "plt.ylabel('Actual label')\n",
    "plt.xlabel('Predicted label')"
   ]
  },
  {
   "cell_type": "code",
   "execution_count": 182,
   "id": "b697b475",
   "metadata": {
    "ExecuteTime": {
     "end_time": "2021-11-16T04:21:22.116079Z",
     "start_time": "2021-11-16T04:21:22.110423Z"
    }
   },
   "outputs": [
    {
     "data": {
      "text/plain": [
       "array([[ 1.09706398e+00, -2.07333501e+00,  1.26993369e+00,\n",
       "         9.84374905e-01,  1.56846633e+00,  3.28351467e+00,\n",
       "         2.65287398e+00,  2.53247522e+00,  2.21751501e+00,\n",
       "         2.25574689e+00,  2.48973393e+00, -5.65265059e-01,\n",
       "         2.83303087e+00,  2.48757756e+00, -2.14001647e-01,\n",
       "         1.31686157e+00,  7.24026158e-01,  6.60819941e-01,\n",
       "         1.14875667e+00,  9.07083081e-01,  1.88668963e+00,\n",
       "        -1.35929347e+00,  2.30360062e+00,  2.00123749e+00,\n",
       "         1.30768627e+00,  2.61666502e+00,  2.10952635e+00,\n",
       "         2.29607613e+00,  2.75062224e+00,  1.93701461e+00],\n",
       "       [ 1.82982061e+00, -3.53632408e-01,  1.68595471e+00,\n",
       "         1.90870825e+00, -8.26962447e-01, -4.87071673e-01,\n",
       "        -2.38458552e-02,  5.48144156e-01,  1.39236330e-03,\n",
       "        -8.68652457e-01,  4.99254601e-01, -8.76243603e-01,\n",
       "         2.63326966e-01,  7.42401948e-01, -6.05350847e-01,\n",
       "        -6.92926270e-01, -4.40780058e-01,  2.60162067e-01,\n",
       "        -8.05450380e-01, -9.94437403e-02,  1.80592744e+00,\n",
       "        -3.69203222e-01,  1.53512599e+00,  1.89048899e+00,\n",
       "        -3.75611957e-01, -4.30444219e-01, -1.46748968e-01,\n",
       "         1.08708430e+00, -2.43889668e-01,  2.81189987e-01]])"
      ]
     },
     "execution_count": 182,
     "metadata": {},
     "output_type": "execute_result"
    }
   ],
   "source": [
    "X = cancer_dataset.iloc[:,0:30].values\n",
    "Y = cancer_dataset.iloc[:,30].values\n",
    "scalar_X = StandardScaler()\n",
    "X = scalar_X.fit_transform(X)\n",
    "X[0:2]"
   ]
  },
  {
   "cell_type": "code",
   "execution_count": 183,
   "id": "b307ea6f",
   "metadata": {
    "ExecuteTime": {
     "end_time": "2021-11-16T04:21:22.122912Z",
     "start_time": "2021-11-16T04:21:22.117260Z"
    }
   },
   "outputs": [],
   "source": [
    "lda = LinearDiscriminantAnalysis(n_components = 1)\n",
    "lda_train = lda.fit_transform(X,Y)"
   ]
  },
  {
   "cell_type": "code",
   "execution_count": 184,
   "id": "57255b3f",
   "metadata": {
    "ExecuteTime": {
     "end_time": "2021-11-16T04:21:22.132163Z",
     "start_time": "2021-11-16T04:21:22.124161Z"
    }
   },
   "outputs": [
    {
     "data": {
      "text/plain": [
       "array([1, 0, 1, 0, 0, 0, 0, 1, 1])"
      ]
     },
     "execution_count": 184,
     "metadata": {},
     "output_type": "execute_result"
    }
   ],
   "source": [
    "classifier_L = LogisticRegression(random_state=0)\n",
    "classifier_L.fit(X_train,Y_train)\n",
    "Y2_pred = classifier_L.predict(X_test)\n",
    "Y2_pred[0:9]"
   ]
  },
  {
   "cell_type": "code",
   "execution_count": 185,
   "id": "a4da0575",
   "metadata": {
    "ExecuteTime": {
     "end_time": "2021-11-16T04:21:22.138110Z",
     "start_time": "2021-11-16T04:21:22.133585Z"
    }
   },
   "outputs": [
    {
     "data": {
      "text/plain": [
       "array([[37,  5],\n",
       "       [ 0, 72]])"
      ]
     },
     "execution_count": 185,
     "metadata": {},
     "output_type": "execute_result"
    }
   ],
   "source": [
    "from sklearn.metrics import confusion_matrix \n",
    "cnf_matrix = confusion_matrix(Y_test,Y2_pred)\n",
    "cnf_matrix"
   ]
  },
  {
   "cell_type": "code",
   "execution_count": 186,
   "id": "bbd2d92c",
   "metadata": {
    "ExecuteTime": {
     "end_time": "2021-11-16T04:21:22.145151Z",
     "start_time": "2021-11-16T04:21:22.139280Z"
    }
   },
   "outputs": [
    {
     "name": "stdout",
     "output_type": "stream",
     "text": [
      "Accuracy: 0.956140350877193\n",
      "Precision: 0.935064935064935\n",
      "Recall: 1.0\n"
     ]
    }
   ],
   "source": [
    "from sklearn import metrics\n",
    "print(\"Accuracy:\",metrics.accuracy_score(Y_test,Y2_pred))\n",
    "print(\"Precision:\",metrics.precision_score(Y_test,Y2_pred))\n",
    "print(\"Recall:\",metrics.recall_score(Y_test,Y2_pred))"
   ]
  },
  {
   "cell_type": "code",
   "execution_count": 187,
   "id": "3eb969cb",
   "metadata": {
    "ExecuteTime": {
     "end_time": "2021-11-16T04:21:22.313642Z",
     "start_time": "2021-11-16T04:21:22.146585Z"
    },
    "scrolled": true
   },
   "outputs": [
    {
     "data": {
      "text/plain": [
       "Text(0.5, 257.44, 'Predicted label')"
      ]
     },
     "execution_count": 187,
     "metadata": {},
     "output_type": "execute_result"
    },
    {
     "data": {
      "image/png": "[encoded data removed]",
      "text/plain": [
       "<Figure size 432x288 with 2 Axes>"
      ]
     },
     "metadata": {
      "needs_background": "light"
     },
     "output_type": "display_data"
    }
   ],
   "source": [
    "class_names = [0,1] \n",
    "fig, ax = plt.subplots()\n",
    "tick_marks = np.arange(len(class_names))\n",
    "plt.xticks(tick_marks,class_names)\n",
    "plt.yticks(tick_marks,class_names)\n",
    "sns.heatmap(pd.DataFrame(cnf_matrix), annot = True, cmap = \"YlGnBu\", fmt = 'g')\n",
    "ax.xaxis.set_label_position(\"top\")\n",
    "plt.tight_layout()\n",
    "plt.title('Confusion matrix',y = 1.1)\n",
    "plt.ylabel('Actual label')\n",
    "plt.xlabel('Predicted label')"
   ]
  }
 ],
 "metadata": {
  "kernelspec": {
   "display_name": "Python 3",
   "language": "python",
   "name": "python3"
  },
  "language_info": {
   "codemirror_mode": {
    "name": "ipython",
    "version": 3
   },
   "file_extension": ".py",
   "mimetype": "text/x-python",
   "name": "python",
   "nbconvert_exporter": "python",
   "pygments_lexer": "ipython3",
   "version": "3.8.10"
  },
  "toc": {
   "base_numbering": 1,
   "nav_menu": {},
   "number_sections": false,
   "sideBar": true,
   "skip_h1_title": false,
   "title_cell": "Table of Contents",
   "title_sidebar": "Contents",
   "toc_cell": false,
   "toc_position": {},
   "toc_section_display": true,
   "toc_window_display": false
  }
 },
 "nbformat": 4,
 "nbformat_minor": 5
}
